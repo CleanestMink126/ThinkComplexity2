{
 "cells": [
  {
   "cell_type": "markdown",
   "metadata": {},
   "source": [
    "# Small World Graphs\n",
    "\n",
    "Code examples from [Think Complexity, 2nd edition](http://greenteapress.com/wp/complexity2), Chapter 3\n",
    "\n",
    "Copyright 2016 Allen Downey, [MIT License](http://opensource.org/licenses/MIT)"
   ]
  },
  {
   "cell_type": "code",
   "execution_count": 1,
   "metadata": {},
   "outputs": [],
   "source": [
    "from __future__ import print_function, division\n",
    "\n",
    "%matplotlib inline\n",
    "\n",
    "import warnings\n",
    "warnings.filterwarnings('ignore')\n",
    "\n",
    "import matplotlib.pyplot as plt\n",
    "\n",
    "import networkx as nx\n",
    "import numpy as np\n",
    "\n",
    "import thinkplot\n",
    "\n",
    "# colors from our friends at http://colorbrewer2.org\n",
    "COLORS = ['#8dd3c7','#ffffb3','#bebada','#fb8072','#80b1d3','#fdb462',\n",
    "          '#b3de69','#fccde5','#d9d9d9','#bc80bd','#ccebc5','#ffed6f']"
   ]
  },
  {
   "cell_type": "code",
   "execution_count": 2,
   "metadata": {
    "collapsed": true
   },
   "outputs": [],
   "source": [
    "from thinkstats2 import RandomSeed\n",
    "RandomSeed(17)"
   ]
  },
  {
   "cell_type": "markdown",
   "metadata": {},
   "source": [
    "## Regular ring lattice"
   ]
  },
  {
   "cell_type": "markdown",
   "metadata": {},
   "source": [
    "To make a ring lattice, I'll start with a generator function that yields edges between each node and the next `halfk` neighbors."
   ]
  },
  {
   "cell_type": "code",
   "execution_count": 3,
   "metadata": {
    "collapsed": true
   },
   "outputs": [],
   "source": [
    "def adjacent_edges(nodes, halfk):\n",
    "    \"\"\"Yields edges between each node and `halfk` neighbors.\n",
    "    \n",
    "    halfk: number of edges from each node\n",
    "    \"\"\"\n",
    "    n = len(nodes)\n",
    "    for i, u in enumerate(nodes):\n",
    "        for j in range(i+1, i+halfk+1):\n",
    "            v = nodes[j % n]\n",
    "            yield u, v"
   ]
  },
  {
   "cell_type": "markdown",
   "metadata": {},
   "source": [
    "We can test it with 3 nodes and `halfk=1`"
   ]
  },
  {
   "cell_type": "code",
   "execution_count": 5,
   "metadata": {},
   "outputs": [
    {
     "name": "stdout",
     "output_type": "stream",
     "text": [
      "(0, 1)\n",
      "(1, 2)\n",
      "(2, 0)\n"
     ]
    }
   ],
   "source": [
    "nodes = range(3)\n",
    "for edge in adjacent_edges(nodes, 1):\n",
    "    print(edge)"
   ]
  },
  {
   "cell_type": "markdown",
   "metadata": {},
   "source": [
    "Now we use `adjacent_edges` to write `make_ring_lattice`"
   ]
  },
  {
   "cell_type": "code",
   "execution_count": 6,
   "metadata": {
    "collapsed": true
   },
   "outputs": [],
   "source": [
    "def make_ring_lattice(n, k):\n",
    "    \"\"\"Makes a ring lattice with `n` nodes and degree `k`.\n",
    "    \n",
    "    Note: this only works correctly if k is even.\n",
    "    \n",
    "    n: number of nodes\n",
    "    k: degree of each node\n",
    "    \"\"\"\n",
    "    G = nx.Graph()\n",
    "    nodes = range(n)\n",
    "    G.add_nodes_from(nodes)\n",
    "    G.add_edges_from(adjacent_edges(nodes, k//2))\n",
    "    return G"
   ]
  },
  {
   "cell_type": "markdown",
   "metadata": {},
   "source": [
    "And we can test it out with `n=10` and `k=4`"
   ]
  },
  {
   "cell_type": "code",
   "execution_count": 16,
   "metadata": {
    "collapsed": true
   },
   "outputs": [],
   "source": [
    "lattice = make_ring_lattice(25, 10)"
   ]
  },
  {
   "cell_type": "code",
   "execution_count": 17,
   "metadata": {},
   "outputs": [
    {
     "data": {
      "image/png": "[encoded data removed]",
      "text/plain": [
       "<matplotlib.figure.Figure at 0x7f6b23356cf8>"
      ]
     },
     "metadata": {},
     "output_type": "display_data"
    }
   ],
   "source": [
    "nx.draw_circular(lattice, \n",
    "                 node_color=COLORS[0], \n",
    "                 node_size=1000, \n",
    "                 with_labels=True)\n",
    "plt.savefig('chap03-1.pdf')"
   ]
  },
  {
   "cell_type": "markdown",
   "metadata": {},
   "source": [
    "**Exercise:** To see how this function fails when `k` is odd, run it again with `k=2` or `k=5`."
   ]
  },
  {
   "cell_type": "markdown",
   "metadata": {
    "collapsed": true
   },
   "source": [
    "## WS graph"
   ]
  },
  {
   "cell_type": "markdown",
   "metadata": {},
   "source": [
    "To make a WS, you start with a ring lattice and then rewire."
   ]
  },
  {
   "cell_type": "code",
   "execution_count": 9,
   "metadata": {},
   "outputs": [],
   "source": [
    "def make_ws_graph(n, k, p):\n",
    "    \"\"\"Makes a Watts-Strogatz graph.\n",
    "    \n",
    "    n: number of nodes\n",
    "    k: degree of each node\n",
    "    p: probability of rewiring an edge\n",
    "    \"\"\"\n",
    "    ws = make_ring_lattice(n, k)\n",
    "    rewire(ws, p)\n",
    "    return ws"
   ]
  },
  {
   "cell_type": "markdown",
   "metadata": {},
   "source": [
    "Here's the function that does the rewiring"
   ]
  },
  {
   "cell_type": "code",
   "execution_count": 10,
   "metadata": {},
   "outputs": [],
   "source": [
    "from numpy.random import choice\n",
    "\n",
    "def rewire(G, p):\n",
    "    \"\"\"Rewires each edge with probability `p`.\n",
    "    \n",
    "    G: Graph\n",
    "    p: float\n",
    "    \"\"\"\n",
    "    nodes = set(G.nodes())\n",
    "    for edge in G.edges():\n",
    "        if flip(p):\n",
    "            u, v = edge\n",
    "            choices = nodes - {u} - set(G[u])\n",
    "            new_v = choice(tuple(choices))\n",
    "            G.remove_edge(u, v)\n",
    "            G.add_edge(u, new_v)\n",
    "            \n",
    "def flip(p):\n",
    "    \"\"\"Returns True with probability `p`.\"\"\"\n",
    "    return np.random.random() < p"
   ]
  },
  {
   "cell_type": "markdown",
   "metadata": {},
   "source": [
    "Here's an example with `p=0.2`"
   ]
  },
  {
   "cell_type": "code",
   "execution_count": 13,
   "metadata": {},
   "outputs": [
    {
     "data": {
      "image/png": "[encoded data removed]",
      "text/plain": [
       "<matplotlib.figure.Figure at 0x7f6b2371a4e0>"
      ]
     },
     "metadata": {},
     "output_type": "display_data"
    }
   ],
   "source": [
    "ws = make_ws_graph(10, 4, 0.0)\n",
    "nx.draw_circular(ws, \n",
    "                 node_color=COLORS[1], \n",
    "                 node_size=1000, \n",
    "                 with_labels=True)"
   ]
  },
  {
   "cell_type": "markdown",
   "metadata": {},
   "source": [
    "Just checking that we have the same number of edges we started with:"
   ]
  },
  {
   "cell_type": "code",
   "execution_count": 11,
   "metadata": {},
   "outputs": [
    {
     "data": {
      "text/plain": [
       "(20, 20)"
      ]
     },
     "execution_count": 11,
     "metadata": {},
     "output_type": "execute_result"
    }
   ],
   "source": [
    "len(lattice.edges()), len(ws.edges())"
   ]
  },
  {
   "cell_type": "markdown",
   "metadata": {},
   "source": [
    "Now I'll generate a plot that shows WS graphs for a few values of `p`"
   ]
  },
  {
   "cell_type": "code",
   "execution_count": 12,
   "metadata": {},
   "outputs": [
    {
     "data": {
      "image/png": "[encoded data removed]",
      "text/plain": [
       "<matplotlib.figure.Figure at 0x7f5c9d8c4290>"
      ]
     },
     "metadata": {},
     "output_type": "display_data"
    }
   ],
   "source": [
    "n = 10\n",
    "k = 4\n",
    "ns = 40\n",
    "\n",
    "thinkplot.preplot(cols=3)\n",
    "ws = make_ws_graph(n, k, 0)\n",
    "nx.draw_circular(ws, node_size=ns)\n",
    "thinkplot.config(axis='equal')\n",
    "\n",
    "thinkplot.subplot(2)\n",
    "ws = make_ws_graph(n, k, 0.2)\n",
    "nx.draw_circular(ws, node_size=ns)\n",
    "thinkplot.config(axis='equal')\n",
    "\n",
    "thinkplot.subplot(3)\n",
    "ws = make_ws_graph(n, k, 1.0)\n",
    "nx.draw_circular(ws, node_size=ns)\n",
    "thinkplot.config(axis='equal')\n",
    "\n",
    "plt.tight_layout()\n",
    "plt.subplots_adjust(wspace=0, hspace=0, left=0, right=1)\n",
    "plt.savefig('chap03-2.pdf')"
   ]
  },
  {
   "cell_type": "markdown",
   "metadata": {},
   "source": [
    "**Exercise:** What is the order of growth of `rewire`?"
   ]
  },
  {
   "cell_type": "code",
   "execution_count": 13,
   "metadata": {
    "collapsed": true
   },
   "outputs": [],
   "source": [
    "# Solution goes here"
   ]
  },
  {
   "cell_type": "markdown",
   "metadata": {
    "collapsed": true
   },
   "source": [
    "## Clustering"
   ]
  },
  {
   "cell_type": "markdown",
   "metadata": {},
   "source": [
    "The following function computes the local clustering coefficient for a given node, `u`:"
   ]
  },
  {
   "cell_type": "code",
   "execution_count": 14,
   "metadata": {
    "collapsed": true
   },
   "outputs": [],
   "source": [
    "def node_clustering(G, u):\n",
    "    \"\"\"Computes local clustering coefficient for `u`.\n",
    "    \n",
    "    G: Graph\n",
    "    u: node\n",
    "    \n",
    "    returns: float\n",
    "    \"\"\"\n",
    "    neighbors = G[u]\n",
    "    k = len(neighbors)\n",
    "    if k < 2:\n",
    "        return 0\n",
    "        \n",
    "    total = k * (k-1) / 2\n",
    "    exist = 0    \n",
    "    for v, w in all_pairs(neighbors):\n",
    "        if G.has_edge(v, w):\n",
    "            exist +=1\n",
    "    return exist / total\n",
    "\n",
    "def all_pairs(nodes):\n",
    "    \"\"\"Generates all pairs of nodes.\"\"\"\n",
    "    for i, u in enumerate(nodes):\n",
    "        for j, v in enumerate(nodes):\n",
    "            if i < j:\n",
    "                yield u, v"
   ]
  },
  {
   "cell_type": "markdown",
   "metadata": {},
   "source": [
    "The network average clustering coefficient is just the mean of the local CCs."
   ]
  },
  {
   "cell_type": "code",
   "execution_count": 15,
   "metadata": {},
   "outputs": [],
   "source": [
    "def clustering_coefficient(G):\n",
    "    \"\"\"Average of the local clustering coefficients.\n",
    "    \n",
    "    G: Graph\n",
    "    \n",
    "    returns: float\n",
    "    \"\"\"\n",
    "    cc = np.mean([node_clustering(G, node) for node in G])\n",
    "    return cc"
   ]
  },
  {
   "cell_type": "markdown",
   "metadata": {},
   "source": [
    "In a ring lattice with `k=4`, the clustering coefficient for each node should be 0.5"
   ]
  },
  {
   "cell_type": "code",
   "execution_count": 16,
   "metadata": {},
   "outputs": [
    {
     "data": {
      "text/plain": [
       "0.5"
      ]
     },
     "execution_count": 16,
     "metadata": {},
     "output_type": "execute_result"
    }
   ],
   "source": [
    "lattice = make_ring_lattice(10, 4)\n",
    "node_clustering(lattice, 1)"
   ]
  },
  {
   "cell_type": "markdown",
   "metadata": {},
   "source": [
    "And the network average should be 0.5"
   ]
  },
  {
   "cell_type": "code",
   "execution_count": 17,
   "metadata": {},
   "outputs": [
    {
     "data": {
      "text/plain": [
       "0.5"
      ]
     },
     "execution_count": 17,
     "metadata": {},
     "output_type": "execute_result"
    }
   ],
   "source": [
    "clustering_coefficient(lattice)"
   ]
  },
  {
   "cell_type": "markdown",
   "metadata": {},
   "source": [
    "Correct."
   ]
  },
  {
   "cell_type": "markdown",
   "metadata": {},
   "source": [
    "**Exercise:** Write a version of `node_clustering` that replaces the `for` loop with a list comprehension."
   ]
  },
  {
   "cell_type": "code",
   "execution_count": 18,
   "metadata": {},
   "outputs": [],
   "source": [
    "# Solution goes here"
   ]
  },
  {
   "cell_type": "markdown",
   "metadata": {},
   "source": [
    "**Exercise:** What is the order of growth of `clustering_coefficient` in terms of `n`, `m`, and `k`?"
   ]
  },
  {
   "cell_type": "code",
   "execution_count": 19,
   "metadata": {},
   "outputs": [],
   "source": [
    "# Solution goes here"
   ]
  },
  {
   "cell_type": "markdown",
   "metadata": {},
   "source": [
    "## Path length"
   ]
  },
  {
   "cell_type": "markdown",
   "metadata": {},
   "source": [
    "The following function computes path lengths between all pairs of nodes"
   ]
  },
  {
   "cell_type": "code",
   "execution_count": 20,
   "metadata": {},
   "outputs": [],
   "source": [
    "def path_lengths(G):\n",
    "    length_map = nx.shortest_path_length(G)\n",
    "    lengths = [length_map[u][v] for u, v in all_pairs(G)]\n",
    "    return lengths"
   ]
  },
  {
   "cell_type": "markdown",
   "metadata": {},
   "source": [
    "The characteristic path length is the mean path length for all pairs."
   ]
  },
  {
   "cell_type": "code",
   "execution_count": 21,
   "metadata": {},
   "outputs": [],
   "source": [
    "def characteristic_path_length(G):\n",
    "    return np.mean(path_lengths(G))"
   ]
  },
  {
   "cell_type": "markdown",
   "metadata": {},
   "source": [
    "On a complete graph, the average path length should be 1"
   ]
  },
  {
   "cell_type": "code",
   "execution_count": 22,
   "metadata": {},
   "outputs": [
    {
     "data": {
      "text/plain": [
       "1.0"
      ]
     },
     "execution_count": 22,
     "metadata": {},
     "output_type": "execute_result"
    }
   ],
   "source": [
    "complete = nx.complete_graph(10)\n",
    "characteristic_path_length(complete)"
   ]
  },
  {
   "cell_type": "markdown",
   "metadata": {},
   "source": [
    "On a ring lattice with `n=1000` and `k=10`, the mean is about 50"
   ]
  },
  {
   "cell_type": "code",
   "execution_count": 23,
   "metadata": {},
   "outputs": [
    {
     "data": {
      "text/plain": [
       "50.450450450450454"
      ]
     },
     "execution_count": 23,
     "metadata": {},
     "output_type": "execute_result"
    }
   ],
   "source": [
    "lattice = make_ring_lattice(1000, 10)\n",
    "characteristic_path_length(lattice)"
   ]
  },
  {
   "cell_type": "markdown",
   "metadata": {},
   "source": [
    "**Exercise:**  What is the mean path length in a ring lattice with `n=10` and `k=4`?"
   ]
  },
  {
   "cell_type": "code",
   "execution_count": 24,
   "metadata": {},
   "outputs": [],
   "source": [
    "# Solution goes here"
   ]
  },
  {
   "cell_type": "markdown",
   "metadata": {},
   "source": [
    "## The experiment"
   ]
  },
  {
   "cell_type": "markdown",
   "metadata": {},
   "source": [
    "This function generates a WS graph with the given parameters and returns a pair of (mean path length, clustering coefficient):"
   ]
  },
  {
   "cell_type": "code",
   "execution_count": 25,
   "metadata": {
    "collapsed": true
   },
   "outputs": [],
   "source": [
    "def run_one_graph(n, k, p):\n",
    "    \"\"\"Makes a WS graph and computes its stats.\n",
    "    \n",
    "    n: number of nodes\n",
    "    k: degree of each node\n",
    "    p: probability of rewiring\n",
    "    \n",
    "    returns: tuple of (mean path length, clustering coefficient)\n",
    "    \"\"\"\n",
    "    ws = make_ws_graph(n, k, p)    \n",
    "    mpl = characteristic_path_length(ws)\n",
    "    cc = clustering_coefficient(ws)\n",
    "    print(mpl, cc)\n",
    "    return mpl, cc"
   ]
  },
  {
   "cell_type": "markdown",
   "metadata": {},
   "source": [
    "With `n=1000` and `k=10`, it takes about a second on my computer:"
   ]
  },
  {
   "cell_type": "code",
   "execution_count": 26,
   "metadata": {},
   "outputs": [
    {
     "name": "stdout",
     "output_type": "stream",
     "text": [
      "8.28896696697 0.644773015873\n",
      "CPU times: user 1.24 s, sys: 68 ms, total: 1.3 s\n",
      "Wall time: 1.23 s\n"
     ]
    },
    {
     "data": {
      "text/plain": [
       "(8.2889669669669672, 0.64477301587301572)"
      ]
     },
     "execution_count": 26,
     "metadata": {},
     "output_type": "execute_result"
    }
   ],
   "source": [
    "%time run_one_graph(1000, 10, 0.01)"
   ]
  },
  {
   "cell_type": "markdown",
   "metadata": {},
   "source": [
    "Now we'll run it with a range of values for `p`."
   ]
  },
  {
   "cell_type": "code",
   "execution_count": 27,
   "metadata": {},
   "outputs": [
    {
     "name": "stdout",
     "output_type": "stream",
     "text": [
      "[  1.00000000e-04   3.16227766e-04   1.00000000e-03   3.16227766e-03\n",
      "   1.00000000e-02   3.16227766e-02   1.00000000e-01   3.16227766e-01\n",
      "   1.00000000e+00]\n"
     ]
    }
   ],
   "source": [
    "ps = np.logspace(-4, 0, 9)\n",
    "print(ps)"
   ]
  },
  {
   "cell_type": "markdown",
   "metadata": {},
   "source": [
    "This function runs each value of `p` 20 times and returns a dictionary that maps from each `p` to a list of (mpl, cc) pairs."
   ]
  },
  {
   "cell_type": "code",
   "execution_count": 28,
   "metadata": {
    "collapsed": true
   },
   "outputs": [],
   "source": [
    "def run_experiment(ps, n=1000, k=10, iters=20):\n",
    "    \"\"\"Computes stats for WS graphs with a range of `p`.\n",
    "    \n",
    "    ps: sequence of `p` to try\n",
    "    n: number of nodes\n",
    "    k: degree of each node\n",
    "    iters: number of times to run for each `p`\n",
    "    \n",
    "    returns: sequence of (mpl, cc) pairs\n",
    "    \"\"\"\n",
    "    res = {}\n",
    "    for p in ps:\n",
    "        print(p)\n",
    "        res[p] = []\n",
    "        for _ in range(iters):\n",
    "            res[p].append(run_one_graph(n, k, p))\n",
    "    return res"
   ]
  },
  {
   "cell_type": "markdown",
   "metadata": {},
   "source": [
    "Here are the raw results"
   ]
  },
  {
   "cell_type": "code",
   "execution_count": 29,
   "metadata": {},
   "outputs": [
    {
     "name": "stdout",
     "output_type": "stream",
     "text": [
      "0.0001\n",
      "40.5586446446 0.666423232323\n",
      "50.4504504505 0.666666666667\n",
      "50.4504504505 0.666666666667\n",
      "42.5435135135 0.666423232323\n",
      "50.4504504505 0.666666666667\n",
      "47.2872632633 0.666278787879\n",
      "50.4504504505 0.666666666667\n",
      "49.82804004 0.666351010101\n",
      "40.1102762763 0.666134343434\n",
      "50.4504504505 0.666666666667\n",
      "50.4504504505 0.666666666667\n",
      "50.4504504505 0.666666666667\n",
      "50.4504504505 0.666666666667\n",
      "39.6356356356 0.665963131313\n",
      "37.9293013013 0.666107575758\n",
      "50.4211191191 0.666384848485\n",
      "50.4504504505 0.666666666667\n",
      "39.8014494494 0.666351010101\n",
      "50.4504504505 0.666666666667\n",
      "50.4504504505 0.666666666667\n",
      "0.000316227766017\n",
      "38.53002002 0.666423232323\n",
      "32.7859219219 0.665286363636\n",
      "36.9473093093 0.665890909091\n",
      "26.7532292292 0.665503030303\n",
      "36.4936216216 0.665746464646\n",
      "34.7754554555 0.665746464646\n",
      "41.8450750751 0.666278787879\n",
      "45.4095435435 0.665963131313\n",
      "33.5735475475 0.665963131313\n",
      "38.6045785786 0.666423232323\n",
      "32.2358298298 0.665042929293\n",
      "33.3399079079 0.665746464646\n",
      "38.742980981 0.666278787879\n",
      "45.4724864865 0.666134343434\n",
      "43.0307187187 0.665746464646\n",
      "35.9812412412 0.665141919192\n",
      "43.4174854855 0.666206565657\n",
      "37.7342762763 0.665746464646\n",
      "46.0405485485 0.666134343434\n",
      "46.0505105105 0.666423232323\n",
      "0.001\n",
      "27.7864684685 0.664871717172\n",
      "24.6398518519 0.664799494949\n",
      "18.7175135135 0.663261616162\n",
      "25.9586186186 0.665331818182\n",
      "24.3776676677 0.663635858586\n",
      "18.0281161161 0.663252020202\n",
      "27.0837257257 0.665115151515\n",
      "24.6775255255 0.663872727273\n",
      "29.0646966967 0.664438383838\n",
      "34.9572032032 0.666035353535\n",
      "21.4924024024 0.66424040404\n",
      "25.2707067067 0.664339393939\n",
      "29.818018018 0.665430808081\n",
      "23.4177557558 0.664586868687\n",
      "23.8585425425 0.664556060606\n",
      "28.9063443443 0.664862121212\n",
      "40.5522542543 0.666134343434\n",
      "44.1523723724 0.665602020202\n",
      "31.1422802803 0.665746464646\n",
      "28.1193713714 0.665119191919\n",
      "0.00316227766017\n",
      "13.7572172172 0.660233333333\n",
      "14.1674974975 0.660086363636\n",
      "15.9580520521 0.661624242424\n",
      "12.708016016 0.659282323232\n",
      "13.8144124124 0.660335858586\n",
      "14.8165805806 0.660265151515\n",
      "14.4420920921 0.659688383838\n",
      "17.7491131131 0.661997474747\n",
      "18.9155115115 0.662798989899\n",
      "22.0506386386 0.663656565657\n",
      "14.0560580581 0.659987157287\n",
      "14.3845325325 0.660907070707\n",
      "14.6731391391 0.660527272727\n",
      "17.112990991 0.6604\n",
      "15.4829369369 0.661070707071\n",
      "14.1781561562 0.660331818182\n",
      "16.691967968 0.660698484848\n",
      "16.7547927928 0.661567676768\n",
      "16.6825945946 0.661172222222\n",
      "22.0831191191 0.664172222222\n",
      "0.01\n",
      "7.94062462462 0.642641630592\n",
      "7.40465065065 0.636799350649\n",
      "8.30137737738 0.644274747475\n",
      "9.1450970971 0.649694444444\n",
      "9.55291291291 0.651107287157\n",
      "9.29760560561 0.651171212121\n",
      "9.22354354354 0.650536868687\n",
      "9.09321521522 0.647822222222\n",
      "8.74787987988 0.645989321789\n",
      "8.17507307307 0.643793434343\n",
      "8.59633233233 0.64686010101\n",
      "9.75262062062 0.651445959596\n",
      "9.40867467467 0.649111616162\n",
      "9.03354354354 0.649630808081\n",
      "8.21907107107 0.643132828283\n",
      "8.46178778779 0.644710750361\n",
      "8.90245445445 0.647749062049\n",
      "9.72826626627 0.650404040404\n",
      "8.80091291291 0.648324386724\n",
      "9.67744344344 0.649768037518\n",
      "0.0316227766017\n",
      "6.11187387387 0.612168614719\n",
      "6.11333133133 0.613426262626\n",
      "6.1021001001 0.613951082251\n",
      "6.24532332332 0.615669197469\n",
      "5.87419019019 0.601906637807\n",
      "6.11376576577 0.615479220779\n",
      "5.83590990991 0.600814146964\n",
      "5.79771171171 0.600408730159\n",
      "5.97780980981 0.607185858586\n",
      "6.1786966967 0.612854456654\n",
      "5.83644844845 0.599819480519\n",
      "6.20693493493 0.615305266955\n",
      "5.96564364364 0.607969119769\n",
      "6.12747347347 0.611915295815\n",
      "5.97134534535 0.609524175824\n",
      "5.65191791792 0.594725258075\n",
      "5.98231631632 0.60902027417\n",
      "5.82005605606 0.603267232767\n",
      "5.95485685686 0.604836136086\n",
      "6.02708108108 0.608427472527\n",
      "0.1\n",
      "4.44957157157 0.490070995671\n",
      "4.49968368368 0.497239471639\n",
      "4.41532532533 0.490542418692\n",
      "4.42224824825 0.486393267843\n",
      "4.47989189189 0.494615545566\n",
      "4.39382182182 0.481364119214\n",
      "4.47831431431 0.493925702076\n",
      "4.36154554555 0.475886974137\n",
      "4.41863063063 0.490388145188\n",
      "4.41744544545 0.489306454656\n",
      "4.36997597598 0.480003424353\n",
      "4.50412812813 0.501036258186\n",
      "4.4715035035 0.494511710512\n",
      "4.41238838839 0.489288944389\n",
      "4.44430630631 0.494561932512\n",
      "4.38232632633 0.483005955156\n",
      "4.49050650651 0.496531413031\n",
      "4.41895295295 0.484771589522\n",
      "4.40845645646 0.487385758686\n",
      "4.49351351351 0.500121861472\n",
      "0.316227766017\n",
      "3.58148748749 0.222827722114\n",
      "3.58613013013 0.221952761128\n",
      "3.57996196196 0.218465975691\n",
      "3.59671471471 0.231548551449\n",
      "3.59395995996 0.228951870352\n",
      "3.57857057057 0.221507298257\n",
      "3.56295495495 0.209251823177\n",
      "3.57265665666 0.211780669331\n",
      "3.58859259259 0.223740090465\n",
      "3.57069069069 0.219627222614\n",
      "3.57167567568 0.218344261294\n",
      "3.5767987988 0.221354717994\n",
      "3.57317917918 0.218075666001\n",
      "3.5736976977 0.216213839265\n",
      "3.56679479479 0.21457967033\n",
      "3.5820960961 0.224804322475\n",
      "3.57524924925 0.21448494006\n",
      "3.582004004 0.221065283736\n",
      "3.57975575576 0.220519302919\n",
      "3.57817417417 0.215896996304\n",
      "1.0\n",
      "3.26872272272 0.00985587549705\n",
      "3.26679479479 0.00931474473239\n",
      "3.26715115115 0.00989869411634\n",
      "3.26861061061 0.00958163960223\n",
      "3.26561761762 0.00832334756747\n",
      "3.26705905906 0.00818675638087\n",
      "3.26658858859 0.00970998756146\n",
      "3.26967167167 0.00978229156464\n",
      "3.26761361361 0.0089959075754\n",
      "3.26681281281 0.0108663818723\n",
      "3.26704704705 0.00783844243991\n",
      "3.26809009009 0.00870044008279\n",
      "3.265995996 0.00871832677127\n",
      "3.26494094094 0.00919368882751\n",
      "3.26664664665 0.00998561365535\n",
      "3.2686006006 0.0100295626372\n",
      "3.26930530531 0.00985792361234\n",
      "3.26606406406 0.00825935543645\n",
      "3.26495095095 0.00928505261508\n",
      "3.26688888889 0.0101365510307\n"
     ]
    }
   ],
   "source": [
    "res = run_experiment(ps)"
   ]
  },
  {
   "cell_type": "markdown",
   "metadata": {},
   "source": [
    "Now we have to extract them in a form we can plot"
   ]
  },
  {
   "cell_type": "code",
   "execution_count": 30,
   "metadata": {},
   "outputs": [
    {
     "name": "stdout",
     "output_type": "stream",
     "text": [
      "[47.153509909909921, 38.388214414414421, 27.601071771771775, 16.023970970970971, 8.8731543543543534, 5.9947393393393389, 4.436626826826827, 3.5785572572572568, 3.2671586586586585]\n",
      "[0.66648752525252497, 0.66589131313131311, 0.6647615909090907, 0.66104016594516579, 0.64724840548340556, 0.60793369602619596, 0.49004759712509716, 0.21974964924781104, 0.0093260291789393941]\n"
     ]
    }
   ],
   "source": [
    "L = []\n",
    "C = []\n",
    "for p, t in sorted(res.items()):\n",
    "    mpls, ccs = zip(*t)\n",
    "    mpl = np.mean(mpls)\n",
    "    cc = np.mean(ccs)\n",
    "    L.append(mpl)\n",
    "    C.append(cc)\n",
    "    \n",
    "print(L)\n",
    "print(C)"
   ]
  },
  {
   "cell_type": "markdown",
   "metadata": {},
   "source": [
    "And normalize them so they both start at 1.0"
   ]
  },
  {
   "cell_type": "code",
   "execution_count": 31,
   "metadata": {
    "collapsed": true
   },
   "outputs": [],
   "source": [
    "L = np.array(L) / L[0]\n",
    "C = np.array(C) / C[0]"
   ]
  },
  {
   "cell_type": "markdown",
   "metadata": {},
   "source": [
    "Here's the plot that replicates Watts and Strogatz's Figure 2."
   ]
  },
  {
   "cell_type": "code",
   "execution_count": 32,
   "metadata": {},
   "outputs": [
    {
     "data": {
      "image/png": "[encoded data removed]",
      "text/plain": [
       "<matplotlib.figure.Figure at 0x7f5c9d760f50>"
      ]
     },
     "metadata": {},
     "output_type": "display_data"
    }
   ],
   "source": [
    "thinkplot.plot(ps, L, style='o-', linewidth=1)\n",
    "thinkplot.plot(ps, C, style='s-', linewidth=1)\n",
    "thinkplot.text(0.001, 0.9, 'C(p) / C(0)')\n",
    "thinkplot.text(0.0005, 0.25, 'L(p) / L(0)')\n",
    "thinkplot.config(xlabel='p', xscale='log',\n",
    "                 xlim=[0.00009, 1.1], ylim=[-0.01, 1.01])\n",
    "plt.savefig('chap03-3.pdf')"
   ]
  },
  {
   "cell_type": "markdown",
   "metadata": {},
   "source": [
    "## Breadth-first search"
   ]
  },
  {
   "cell_type": "markdown",
   "metadata": {},
   "source": [
    "Now let's see how the shortest path algorithm works.  We'll start with BFS, which is the basis for Dijkstra's algorithm.\n",
    "\n",
    "Here's our old friend, the ring lattice:"
   ]
  },
  {
   "cell_type": "code",
   "execution_count": 33,
   "metadata": {
    "collapsed": true
   },
   "outputs": [],
   "source": [
    "lattice = make_ring_lattice(10, 4)"
   ]
  },
  {
   "cell_type": "code",
   "execution_count": 34,
   "metadata": {},
   "outputs": [
    {
     "data": {
      "image/png": "[encoded data removed]",
      "text/plain": [
       "<matplotlib.figure.Figure at 0x7f5ca9c4d710>"
      ]
     },
     "metadata": {},
     "output_type": "display_data"
    }
   ],
   "source": [
    "nx.draw_circular(lattice, \n",
    "                 node_color=COLORS[2], \n",
    "                 node_size=1000, \n",
    "                 with_labels=True)"
   ]
  },
  {
   "cell_type": "markdown",
   "metadata": {},
   "source": [
    "And here's my implementation of BFS using a deque."
   ]
  },
  {
   "cell_type": "code",
   "execution_count": 35,
   "metadata": {
    "collapsed": true
   },
   "outputs": [],
   "source": [
    "from collections import deque\n",
    "\n",
    "def reachable_nodes_bfs(G, start):\n",
    "    \"\"\"Finds reachable nodes by BFS.\n",
    "    \n",
    "    G: graph\n",
    "    start: node to start at\n",
    "    \n",
    "    returns: set of reachable nodes\n",
    "    \"\"\"\n",
    "    seen = set()\n",
    "    queue = deque([start])\n",
    "    while queue:\n",
    "        node = queue.popleft()\n",
    "        if node not in seen:\n",
    "            seen.add(node)\n",
    "            queue.extend(G.neighbors(node))\n",
    "    return seen"
   ]
  },
  {
   "cell_type": "markdown",
   "metadata": {},
   "source": [
    "It works:"
   ]
  },
  {
   "cell_type": "code",
   "execution_count": 36,
   "metadata": {},
   "outputs": [
    {
     "data": {
      "text/plain": [
       "{0, 1, 2, 3, 4, 5, 6, 7, 8, 9}"
      ]
     },
     "execution_count": 36,
     "metadata": {},
     "output_type": "execute_result"
    }
   ],
   "source": [
    "reachable_nodes_bfs(lattice, 0)"
   ]
  },
  {
   "cell_type": "markdown",
   "metadata": {},
   "source": [
    "Here's a version that's a little faster, but maybe less readable."
   ]
  },
  {
   "cell_type": "code",
   "execution_count": 37,
   "metadata": {
    "collapsed": true
   },
   "outputs": [],
   "source": [
    "def reachable_nodes_bfs(G, start):\n",
    "    \"\"\"Finds reachable nodes by BFS.\n",
    "    \n",
    "    G: graph\n",
    "    start: node to start at\n",
    "    \n",
    "    returns: set of reachable nodes\n",
    "    \"\"\"\n",
    "    seen = set()\n",
    "    queue = deque([start])\n",
    "    while queue:\n",
    "        node = queue.popleft()\n",
    "        if node not in seen:\n",
    "            seen.add(node)\n",
    "            neighbors = set(G[node]) \n",
    "            neighbors -= seen\n",
    "            queue.extend(neighbors)\n",
    "    return seen"
   ]
  },
  {
   "cell_type": "markdown",
   "metadata": {},
   "source": [
    "It works, too."
   ]
  },
  {
   "cell_type": "code",
   "execution_count": 38,
   "metadata": {},
   "outputs": [
    {
     "data": {
      "text/plain": [
       "{0, 1, 2, 3, 4, 5, 6, 7, 8, 9}"
      ]
     },
     "execution_count": 38,
     "metadata": {},
     "output_type": "execute_result"
    }
   ],
   "source": [
    "reachable_nodes_bfs(lattice, 0)"
   ]
  },
  {
   "cell_type": "markdown",
   "metadata": {},
   "source": [
    "## Dijkstra's algorithm"
   ]
  },
  {
   "cell_type": "markdown",
   "metadata": {},
   "source": [
    "Now we're ready for Dijkstra's algorithm, at least for graphs where all the edges have the same weight/length."
   ]
  },
  {
   "cell_type": "code",
   "execution_count": 39,
   "metadata": {
    "collapsed": true
   },
   "outputs": [],
   "source": [
    "def shortest_path_dijkstra(G, start):\n",
    "    \"\"\"Finds shortest paths from `start` to all other nodes.\n",
    "    \n",
    "    G: graph\n",
    "    start: node to start at\n",
    "    \n",
    "    returns: make from node to path length\n",
    "    \"\"\"\n",
    "    dist = {start: 0}\n",
    "    queue = deque([start])\n",
    "    while queue:\n",
    "        node = queue.popleft()\n",
    "        new_dist = dist[node] + 1\n",
    "\n",
    "        neighbors = set(G[node]) - set(dist)\n",
    "        for n in neighbors:\n",
    "            dist[n] = new_dist\n",
    "        \n",
    "        queue.extend(neighbors)\n",
    "    return dist"
   ]
  },
  {
   "cell_type": "markdown",
   "metadata": {},
   "source": [
    "Again, we'll test it on a ring lattice."
   ]
  },
  {
   "cell_type": "code",
   "execution_count": 40,
   "metadata": {},
   "outputs": [],
   "source": [
    "lattice = make_ring_lattice(10, 4)"
   ]
  },
  {
   "cell_type": "code",
   "execution_count": 41,
   "metadata": {},
   "outputs": [
    {
     "data": {
      "image/png": "[encoded data removed]",
      "text/plain": [
       "<matplotlib.figure.Figure at 0x7f5c9de1a0d0>"
      ]
     },
     "metadata": {},
     "output_type": "display_data"
    }
   ],
   "source": [
    "nx.draw_circular(lattice, \n",
    "                 node_color=COLORS[3], \n",
    "                 node_size=1000, \n",
    "                 with_labels=True)"
   ]
  },
  {
   "cell_type": "markdown",
   "metadata": {},
   "source": [
    "Here's my implementation:"
   ]
  },
  {
   "cell_type": "code",
   "execution_count": 42,
   "metadata": {},
   "outputs": [
    {
     "data": {
      "text/plain": [
       "{0: 0, 1: 1, 2: 1, 3: 2, 4: 2, 5: 3, 6: 2, 7: 2, 8: 1, 9: 1}"
      ]
     },
     "execution_count": 42,
     "metadata": {},
     "output_type": "execute_result"
    }
   ],
   "source": [
    "d1 = shortest_path_dijkstra(lattice, 0)\n",
    "d1"
   ]
  },
  {
   "cell_type": "markdown",
   "metadata": {},
   "source": [
    "And here's the result from NetworkX:"
   ]
  },
  {
   "cell_type": "code",
   "execution_count": 43,
   "metadata": {},
   "outputs": [
    {
     "data": {
      "text/plain": [
       "{0: 0, 1: 1, 2: 1, 3: 2, 4: 2, 5: 3, 6: 2, 7: 2, 8: 1, 9: 1}"
      ]
     },
     "execution_count": 43,
     "metadata": {},
     "output_type": "execute_result"
    }
   ],
   "source": [
    "d2 = nx.shortest_path_length(lattice, 0)\n",
    "d2"
   ]
  },
  {
   "cell_type": "markdown",
   "metadata": {},
   "source": [
    "They are the same:"
   ]
  },
  {
   "cell_type": "code",
   "execution_count": 44,
   "metadata": {},
   "outputs": [
    {
     "data": {
      "text/plain": [
       "True"
      ]
     },
     "execution_count": 44,
     "metadata": {},
     "output_type": "execute_result"
    }
   ],
   "source": [
    "d1 == d2"
   ]
  },
  {
   "cell_type": "markdown",
   "metadata": {
    "collapsed": true
   },
   "source": [
    "**Exercise:** In a ring lattice with `n=1000` and `k=10`, which node is farthest from 0 and how far is it?  Use `shortest_path_dijkstra` to check your answer.\n",
    "\n",
    "Note: the maximum distance between two nodes is the **diameter** of the graph."
   ]
  },
  {
   "cell_type": "code",
   "execution_count": 45,
   "metadata": {},
   "outputs": [],
   "source": [
    "# Solution goes here"
   ]
  },
  {
   "cell_type": "markdown",
   "metadata": {},
   "source": [
    "## Exercises"
   ]
  },
  {
   "cell_type": "markdown",
   "metadata": {},
   "source": [
    "**Exercise:** In a ring lattice, every node has the same number of neighbors.  The number of neighbors is called the **degree** of the node, and a graph where all nodes have the same degree is called a **regular graph**.\n",
    "\n",
    "All ring lattices are regular, but not all regular graphs are ring lattices.  In particular, if `k` is odd, we can't construct a ring lattice, but we might be able to construct a regular graph.\n",
    "\n",
    "Write a function called `make_regular_graph` that takes `n` and `k` and returns a regular graph that contains `n` nodes, where every node has `k` neighbors.  If it's not possible to make a regular graph with the given values of `n` and `k`, the function should raise a `ValueError`."
   ]
  },
  {
   "cell_type": "code",
   "execution_count": 46,
   "metadata": {
    "collapsed": true
   },
   "outputs": [],
   "source": [
    "# Solution goes here"
   ]
  },
  {
   "cell_type": "code",
   "execution_count": 47,
   "metadata": {
    "collapsed": true
   },
   "outputs": [],
   "source": [
    "# Solution goes here"
   ]
  },
  {
   "cell_type": "code",
   "execution_count": 48,
   "metadata": {
    "collapsed": true
   },
   "outputs": [],
   "source": [
    "# Solution goes here"
   ]
  },
  {
   "cell_type": "code",
   "execution_count": 49,
   "metadata": {},
   "outputs": [],
   "source": [
    "# Solution goes here"
   ]
  },
  {
   "cell_type": "markdown",
   "metadata": {
    "collapsed": true
   },
   "source": [
    "**Exercise:** My implementation of `reachable_nodes_bfs` is efficient in the sense that it is in $O(n + m)$, but it incurs a lot of overhead adding nodes to the queue and removing them.  NetworkX provides a simple, fast implementation of BFS, available from [the NetworkX repository on GitHub](https://github.com/networkx/networkx/blob/master/networkx/algorithms/components/connected.py).\n",
    "\n",
    "Here is a version I modified to return a set of nodes:"
   ]
  },
  {
   "cell_type": "code",
   "execution_count": 50,
   "metadata": {},
   "outputs": [],
   "source": [
    "def plain_bfs(G, source):\n",
    "    \"\"\"A fast BFS node generator\"\"\"\n",
    "    seen = set()\n",
    "    nextlevel = {source}\n",
    "    while nextlevel:\n",
    "        thislevel = nextlevel\n",
    "        nextlevel = set()\n",
    "        for v in thislevel:\n",
    "            if v not in seen:\n",
    "                seen.add(v)\n",
    "                nextlevel.update(G[v])\n",
    "    return seen"
   ]
  },
  {
   "cell_type": "markdown",
   "metadata": {},
   "source": [
    "Compare this function to `reachable_nodes_bfs` and see which is faster.  Then see if you can modify this function to implement a faster version of `shortest_path_dijkstra`"
   ]
  },
  {
   "cell_type": "code",
   "execution_count": 51,
   "metadata": {
    "collapsed": true
   },
   "outputs": [],
   "source": [
    "# Solution goes here"
   ]
  },
  {
   "cell_type": "code",
   "execution_count": 52,
   "metadata": {},
   "outputs": [],
   "source": [
    "# Solution goes here"
   ]
  },
  {
   "cell_type": "code",
   "execution_count": 53,
   "metadata": {},
   "outputs": [],
   "source": [
    "# Solution goes here"
   ]
  },
  {
   "cell_type": "code",
   "execution_count": 54,
   "metadata": {
    "collapsed": true
   },
   "outputs": [],
   "source": [
    "# Solution goes here"
   ]
  },
  {
   "cell_type": "code",
   "execution_count": 55,
   "metadata": {},
   "outputs": [],
   "source": [
    "# Solution goes here"
   ]
  },
  {
   "cell_type": "code",
   "execution_count": 56,
   "metadata": {},
   "outputs": [],
   "source": [
    "# Solution goes here"
   ]
  },
  {
   "cell_type": "code",
   "execution_count": 57,
   "metadata": {},
   "outputs": [],
   "source": [
    "# Solution goes here"
   ]
  },
  {
   "cell_type": "code",
   "execution_count": 58,
   "metadata": {},
   "outputs": [],
   "source": [
    "# Solution goes here"
   ]
  },
  {
   "cell_type": "code",
   "execution_count": 59,
   "metadata": {},
   "outputs": [],
   "source": [
    "# Solution goes here"
   ]
  },
  {
   "cell_type": "markdown",
   "metadata": {},
   "source": [
    "**Exercise:** The following implementation of a BFS contains two performance errors.  What are\n",
    "they?  What is the actual order of growth for this algorithm?"
   ]
  },
  {
   "cell_type": "code",
   "execution_count": 60,
   "metadata": {
    "collapsed": true
   },
   "outputs": [],
   "source": [
    "def bfs(top_node, visit):\n",
    "    \"\"\"Breadth-first search on a graph, starting at top_node.\"\"\"\n",
    "    visited = set()\n",
    "    queue = [top_node]\n",
    "    while len(queue):\n",
    "        curr_node = queue.pop(0)    # Dequeue\n",
    "        visit(curr_node)            # Visit the node\n",
    "        visited.add(curr_node)\n",
    "\n",
    "        # Enqueue non-visited and non-enqueued children\n",
    "        queue.extend(c for c in curr_node.children\n",
    "                     if c not in visited and c not in queue)"
   ]
  },
  {
   "cell_type": "code",
   "execution_count": 61,
   "metadata": {
    "collapsed": true
   },
   "outputs": [],
   "source": [
    "# Solution goes here"
   ]
  },
  {
   "cell_type": "markdown",
   "metadata": {},
   "source": [
    "**Exercise:** In the book, I claimed that Dijkstra's algorithm does not work unless it uses BFS.  Write a version of `shortest_path_dijkstra` that uses DFS and test it on a few examples to see what goes wrong."
   ]
  },
  {
   "cell_type": "code",
   "execution_count": 62,
   "metadata": {},
   "outputs": [],
   "source": [
    "# Solution goes here"
   ]
  },
  {
   "cell_type": "code",
   "execution_count": null,
   "metadata": {
    "collapsed": true
   },
   "outputs": [],
   "source": []
  }
 ],
 "metadata": {
  "kernelspec": {
   "display_name": "Python 3",
   "language": "python",
   "name": "python3"
  },
  "language_info": {
   "codemirror_mode": {
    "name": "ipython",
    "version": 3
   },
   "file_extension": ".py",
   "mimetype": "text/x-python",
   "name": "python",
   "nbconvert_exporter": "python",
   "pygments_lexer": "ipython3",
   "version": "3.6.1"
  }
 },
 "nbformat": 4,
 "nbformat_minor": 1
}
